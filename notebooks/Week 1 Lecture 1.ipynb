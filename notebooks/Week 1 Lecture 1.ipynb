{
 "cells": [
  {
   "cell_type": "markdown",
   "metadata": {},
   "source": [
    "# Notes from Lecture"
   ]
  },
  {
   "cell_type": "code",
   "execution_count": 9,
   "metadata": {},
   "outputs": [],
   "source": [
    "import random\n",
    "import pandas as pd"
   ]
  },
  {
   "cell_type": "markdown",
   "metadata": {},
   "source": [
    "## Monte Carlo direct method\n",
    "Take random sample. Classify and compute statistics from random samples. Example is helipad game where you throw a pebble into a square and (take a random 2d-point) and then calculate whether it is inside a circle."
   ]
  },
  {
   "cell_type": "code",
   "execution_count": 4,
   "metadata": {},
   "outputs": [],
   "source": [
    "def direct_pi(n_trials=4000):\n",
    "    n_hits = 0\n",
    "    for i in range(n_trials):\n",
    "        x, y = random.uniform(-1.0, 1.0), random.uniform(-1.0, 1.0)\n",
    "        if x**2 + y**2 < 1.0:\n",
    "            n_hits += 1            \n",
    "    return 4.0 * n_hits/float(n_trials)"
   ]
  },
  {
   "cell_type": "code",
   "execution_count": 7,
   "metadata": {},
   "outputs": [
    {
     "name": "stdout",
     "output_type": "stream",
     "text": [
      "3.188\n"
     ]
    }
   ],
   "source": [
    "print(direct_pi())"
   ]
  },
  {
   "cell_type": "markdown",
   "metadata": {},
   "source": [
    "Another common thing is to do the test many, many times and aggregate. This can turn something like this into \"online learning\"."
   ]
  },
  {
   "cell_type": "code",
   "execution_count": 8,
   "metadata": {},
   "outputs": [
    {
     "name": "stdout",
     "output_type": "stream",
     "text": [
      "3.1427129999999934\n"
     ]
    }
   ],
   "source": [
    "runs = [direct_pi() for run in range(1000)]\n",
    "print(sum(runs)/len(runs))"
   ]
  },
  {
   "cell_type": "markdown",
   "metadata": {},
   "source": [
    "Eventually, this will converge to $\\pi$."
   ]
  },
  {
   "cell_type": "markdown",
   "metadata": {},
   "source": [
    "### Random walks\n",
    "In this case it doesn't matter that much, but what if trials have some natural variance. That is, boys are throwing from one corner or another, or miss the course all together. A common way to handle this situation is to compute a delta, that is, you compute initial x, y as above, and then compute a random delta_x and delta_y and adjust. If you are altogether out of the square you count it as a miss and continue.  You stil converge, just maybe not as fast.\n"
   ]
  },
  {
   "cell_type": "markdown",
   "metadata": {},
   "source": [
    "### Homogeneous Pebble Game\n",
    "Shows the walk method on a 3x3 matrix with a random walk to left/right/up/down. We have to reject walking outside the matrix to statisfy what is called the \"Global Balance Condition\":\n",
    "\n",
    "P(a) = P(a->a) + P(b->a) + P(c->a)\n",
    "\n",
    "That is, we cannot invalidate Bayesian Probability.\n",
    "\n",
    "We want transitions to be equally probable, which means we need to make the probability of moving up, left, right, and down to be equal. This involves rejections, because otherwise we would violate the Global Balance Condition.  So, if you are in the corner, the probability of staying where you are is 1/2 and the probability of moving in either direction is 1/4.  This makes the Global Balance Condition work."
   ]
  },
  {
   "cell_type": "markdown",
   "metadata": {},
   "source": [
    "\\begin{equation*}\n",
    "\\pi_{a}p(a \\to b) = \\pi_{b}p(b \\to a)\n",
    "\\end{equation*}"
   ]
  },
  {
   "cell_type": "markdown",
   "metadata": {},
   "source": [
    "### Inhomogenous Pebble Game\n",
    "Now, we want transition probabilities such that the probability of being in any given state is given by a matrix like that below:"
   ]
  },
  {
   "cell_type": "code",
   "execution_count": 11,
   "metadata": {},
   "outputs": [
    {
     "data": {
      "text/html": [
       "<div>\n",
       "<style scoped>\n",
       "    .dataframe tbody tr th:only-of-type {\n",
       "        vertical-align: middle;\n",
       "    }\n",
       "\n",
       "    .dataframe tbody tr th {\n",
       "        vertical-align: top;\n",
       "    }\n",
       "\n",
       "    .dataframe thead th {\n",
       "        text-align: right;\n",
       "    }\n",
       "</style>\n",
       "<table border=\"1\" class=\"dataframe\">\n",
       "  <thead>\n",
       "    <tr style=\"text-align: right;\">\n",
       "      <th></th>\n",
       "      <th>0</th>\n",
       "      <th>1</th>\n",
       "      <th>2</th>\n",
       "    </tr>\n",
       "  </thead>\n",
       "  <tbody>\n",
       "    <tr>\n",
       "      <th>0</th>\n",
       "      <td>2.0</td>\n",
       "      <td>0.5</td>\n",
       "      <td>1.0</td>\n",
       "    </tr>\n",
       "    <tr>\n",
       "      <th>1</th>\n",
       "      <td>0.5</td>\n",
       "      <td>1.0</td>\n",
       "      <td>0.5</td>\n",
       "    </tr>\n",
       "    <tr>\n",
       "      <th>2</th>\n",
       "      <td>3.0</td>\n",
       "      <td>0.5</td>\n",
       "      <td>1.0</td>\n",
       "    </tr>\n",
       "  </tbody>\n",
       "</table>\n",
       "</div>"
      ],
      "text/plain": [
       "     0    1    2\n",
       "0  2.0  0.5  1.0\n",
       "1  0.5  1.0  0.5\n",
       "2  3.0  0.5  1.0"
      ]
     },
     "execution_count": 11,
     "metadata": {},
     "output_type": "execute_result"
    }
   ],
   "source": [
    "df = pd.DataFrame([[2.0, 0.5, 1.0],[0.5, 1.0, 0.5],[3.0,0.5,1.0]])\n",
    "df"
   ]
  },
  {
   "cell_type": "markdown",
   "metadata": {},
   "source": [
    "Now the values in this matrix are the relative probabilites of each state of the matrix, so that in the Global Balance Equation:\n",
    "\n",
    "\\begin{equation*}\n",
    "\\pi_{0,0} = 2.0, \\pi_{0,1} = 0.5, \\pi_{0,2} = 1.0\n",
    "\\end{equation*}"
   ]
  },
  {
   "cell_type": "markdown",
   "metadata": {},
   "source": [
    "So, we cannot use equal probabilities. Metropolis algorithm handles this non-homogeneuos solution for rejection:\n",
    "\n",
    "\\begin{equation*}\n",
    "p(a \\to b) = \\min \\bigl(1,\\frac{\\pi_{b}}{\\pi_{a}})\n",
    "\\end{equation*}\n"
   ]
  },
  {
   "cell_type": "markdown",
   "metadata": {},
   "source": [
    "What this means in practice is that you still do a random walk, e.g. each move has likelihood $1/4$, but we will accept the move with the probability of $\\pi_b/\\pi_a$, or reject with the complement, e.g. probability of rejection is given as:\n",
    "\n",
    "\\begin{equation*}\n",
    "1 - \\min \\bigl(1,\\frac{\\pi_{b}}{\\pi_{a}})\n",
    "\\end{equation*}"
   ]
  }
 ],
 "metadata": {
  "kernelspec": {
   "display_name": "Python 3",
   "language": "python",
   "name": "python3"
  },
  "language_info": {
   "codemirror_mode": {
    "name": "ipython",
    "version": 3
   },
   "file_extension": ".py",
   "mimetype": "text/x-python",
   "name": "python",
   "nbconvert_exporter": "python",
   "pygments_lexer": "ipython3",
   "version": "3.5.1"
  }
 },
 "nbformat": 4,
 "nbformat_minor": 2
}
